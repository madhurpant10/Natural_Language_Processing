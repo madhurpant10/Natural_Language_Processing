{
  "nbformat": 4,
  "nbformat_minor": 0,
  "metadata": {
    "colab": {
      "provenance": [],
      "gpuType": "T4"
    },
    "kernelspec": {
      "name": "python3",
      "display_name": "Python 3"
    },
    "language_info": {
      "name": "python"
    },
    "accelerator": "GPU"
  },
  "cells": [
    {
      "cell_type": "markdown",
      "source": [
        "# NLP with RNNs: Toxic Comment Classification"
      ],
      "metadata": {
        "id": "CMN4Do24wumZ"
      }
    },
    {
      "cell_type": "code",
      "execution_count": 1,
      "metadata": {
        "id": "8y7Gu4JNwiI7"
      },
      "outputs": [],
      "source": [
        "import os"
      ]
    },
    {
      "cell_type": "code",
      "source": [
        "os.environ['KAGGLE_CONFIG_DIR'] = '/content'"
      ],
      "metadata": {
        "id": "DB_McL47xAXa"
      },
      "execution_count": 2,
      "outputs": []
    },
    {
      "cell_type": "code",
      "source": [
        "!kaggle competitions download -c jigsaw-toxic-comment-classification-challenge"
      ],
      "metadata": {
        "colab": {
          "base_uri": "https://localhost:8080/"
        },
        "id": "hLdD-0vYxET5",
        "outputId": "ee27f422-c1bf-4f28-c1b8-8b81c46dce6c"
      },
      "execution_count": 3,
      "outputs": [
        {
          "output_type": "stream",
          "name": "stdout",
          "text": [
            "Warning: Your Kaggle API key is readable by other users on this system! To fix this, you can run 'chmod 600 /content/kaggle.json'\n",
            "Downloading jigsaw-toxic-comment-classification-challenge.zip to /content\n",
            " 95% 50.0M/52.6M [00:03<00:00, 22.9MB/s]\n",
            "100% 52.6M/52.6M [00:03<00:00, 15.0MB/s]\n"
          ]
        }
      ]
    },
    {
      "cell_type": "code",
      "source": [
        "!unzip jigsaw-toxic-comment-classification-challenge.zip -d data"
      ],
      "metadata": {
        "colab": {
          "base_uri": "https://localhost:8080/"
        },
        "id": "B6AmIbZaxYLF",
        "outputId": "22af363b-f096-468d-9715-428533080530"
      },
      "execution_count": 4,
      "outputs": [
        {
          "output_type": "stream",
          "name": "stdout",
          "text": [
            "Archive:  jigsaw-toxic-comment-classification-challenge.zip\n",
            "  inflating: data/sample_submission.csv.zip  \n",
            "  inflating: data/test.csv.zip       \n",
            "  inflating: data/test_labels.csv.zip  \n",
            "  inflating: data/train.csv.zip      \n"
          ]
        }
      ]
    },
    {
      "cell_type": "code",
      "source": [
        "import pandas as pd"
      ],
      "metadata": {
        "id": "tWoDJT9kxgsm"
      },
      "execution_count": 5,
      "outputs": []
    },
    {
      "cell_type": "code",
      "source": [
        "train_fname = 'data/train.csv.zip'\n",
        "test_fname = 'data/test.csv.zip'\n",
        "sub_fname = 'data/sample_submission.csv.zip'"
      ],
      "metadata": {
        "id": "CPBPJ7SbxzU7"
      },
      "execution_count": 6,
      "outputs": []
    },
    {
      "cell_type": "code",
      "source": [
        "df = pd.read_csv(train_fname)\n",
        "test_df = pd.read_csv(test_fname)\n",
        "sub_df = pd.read_csv(sub_fname)"
      ],
      "metadata": {
        "id": "gieHeKaxxkJz"
      },
      "execution_count": 7,
      "outputs": []
    },
    {
      "cell_type": "code",
      "source": [
        "df.sample(10)"
      ],
      "metadata": {
        "colab": {
          "base_uri": "https://localhost:8080/",
          "height": 597
        },
        "id": "8EHOGqVpyD4o",
        "outputId": "a494e513-8891-43b8-98ff-f0924db4ba3f"
      },
      "execution_count": 8,
      "outputs": [
        {
          "output_type": "execute_result",
          "data": {
            "text/plain": [
              "                      id                                       comment_text  \\\n",
              "17579   2e7bd5dfb7f7b066  \"\\n\\n Please do not vandalize pages, as you di...   \n",
              "66118   b0cb480bf62834d5  YOU'RE THE DISEASE OF AMERICA\\nSTEALING JOBS F...   \n",
              "30740   51a650bf44d83489  More YouTube\\n\\nI f*cking hate those chain let...   \n",
              "79229   d4102514f29cdf19  Only sites critisizing Phelps are listed, none...   \n",
              "159127  f8f20423b1f45a33  get lost \\n\\nGet lost steve and take your puri...   \n",
              "87752   eabbb835881464bf  Unblock \\n\\nJon, after I finish leaving this m...   \n",
              "126437  a44803a9075c3039  Good point. I suppose repetition is okay. My m...   \n",
              "30068   4fd58fbae2a25c1c  \"\\n\\nThanks\\nThanks for your message on my tal...   \n",
              "145145  17e1cd64f68e10e7  advice for teens \\n\\nhow is that nonsence? i a...   \n",
              "138243  e3c376cd0ed00a95  I wish to issue a sincere apology for what see...   \n",
              "\n",
              "        toxic  severe_toxic  obscene  threat  insult  identity_hate  \n",
              "17579       0             0        0       0       0              0  \n",
              "66118       1             0        1       0       1              1  \n",
              "30740       1             0        1       0       0              0  \n",
              "79229       0             0        0       0       0              0  \n",
              "159127      1             0        0       0       0              0  \n",
              "87752       0             0        0       0       0              0  \n",
              "126437      0             0        0       0       0              0  \n",
              "30068       0             0        0       0       0              0  \n",
              "145145      0             0        0       0       0              0  \n",
              "138243      0             0        0       0       0              0  "
            ],
            "text/html": [
              "\n",
              "  <div id=\"df-45b81171-68fe-4167-bfd1-0f50f50b9b91\">\n",
              "    <div class=\"colab-df-container\">\n",
              "      <div>\n",
              "<style scoped>\n",
              "    .dataframe tbody tr th:only-of-type {\n",
              "        vertical-align: middle;\n",
              "    }\n",
              "\n",
              "    .dataframe tbody tr th {\n",
              "        vertical-align: top;\n",
              "    }\n",
              "\n",
              "    .dataframe thead th {\n",
              "        text-align: right;\n",
              "    }\n",
              "</style>\n",
              "<table border=\"1\" class=\"dataframe\">\n",
              "  <thead>\n",
              "    <tr style=\"text-align: right;\">\n",
              "      <th></th>\n",
              "      <th>id</th>\n",
              "      <th>comment_text</th>\n",
              "      <th>toxic</th>\n",
              "      <th>severe_toxic</th>\n",
              "      <th>obscene</th>\n",
              "      <th>threat</th>\n",
              "      <th>insult</th>\n",
              "      <th>identity_hate</th>\n",
              "    </tr>\n",
              "  </thead>\n",
              "  <tbody>\n",
              "    <tr>\n",
              "      <th>17579</th>\n",
              "      <td>2e7bd5dfb7f7b066</td>\n",
              "      <td>\"\\n\\n Please do not vandalize pages, as you di...</td>\n",
              "      <td>0</td>\n",
              "      <td>0</td>\n",
              "      <td>0</td>\n",
              "      <td>0</td>\n",
              "      <td>0</td>\n",
              "      <td>0</td>\n",
              "    </tr>\n",
              "    <tr>\n",
              "      <th>66118</th>\n",
              "      <td>b0cb480bf62834d5</td>\n",
              "      <td>YOU'RE THE DISEASE OF AMERICA\\nSTEALING JOBS F...</td>\n",
              "      <td>1</td>\n",
              "      <td>0</td>\n",
              "      <td>1</td>\n",
              "      <td>0</td>\n",
              "      <td>1</td>\n",
              "      <td>1</td>\n",
              "    </tr>\n",
              "    <tr>\n",
              "      <th>30740</th>\n",
              "      <td>51a650bf44d83489</td>\n",
              "      <td>More YouTube\\n\\nI f*cking hate those chain let...</td>\n",
              "      <td>1</td>\n",
              "      <td>0</td>\n",
              "      <td>1</td>\n",
              "      <td>0</td>\n",
              "      <td>0</td>\n",
              "      <td>0</td>\n",
              "    </tr>\n",
              "    <tr>\n",
              "      <th>79229</th>\n",
              "      <td>d4102514f29cdf19</td>\n",
              "      <td>Only sites critisizing Phelps are listed, none...</td>\n",
              "      <td>0</td>\n",
              "      <td>0</td>\n",
              "      <td>0</td>\n",
              "      <td>0</td>\n",
              "      <td>0</td>\n",
              "      <td>0</td>\n",
              "    </tr>\n",
              "    <tr>\n",
              "      <th>159127</th>\n",
              "      <td>f8f20423b1f45a33</td>\n",
              "      <td>get lost \\n\\nGet lost steve and take your puri...</td>\n",
              "      <td>1</td>\n",
              "      <td>0</td>\n",
              "      <td>0</td>\n",
              "      <td>0</td>\n",
              "      <td>0</td>\n",
              "      <td>0</td>\n",
              "    </tr>\n",
              "    <tr>\n",
              "      <th>87752</th>\n",
              "      <td>eabbb835881464bf</td>\n",
              "      <td>Unblock \\n\\nJon, after I finish leaving this m...</td>\n",
              "      <td>0</td>\n",
              "      <td>0</td>\n",
              "      <td>0</td>\n",
              "      <td>0</td>\n",
              "      <td>0</td>\n",
              "      <td>0</td>\n",
              "    </tr>\n",
              "    <tr>\n",
              "      <th>126437</th>\n",
              "      <td>a44803a9075c3039</td>\n",
              "      <td>Good point. I suppose repetition is okay. My m...</td>\n",
              "      <td>0</td>\n",
              "      <td>0</td>\n",
              "      <td>0</td>\n",
              "      <td>0</td>\n",
              "      <td>0</td>\n",
              "      <td>0</td>\n",
              "    </tr>\n",
              "    <tr>\n",
              "      <th>30068</th>\n",
              "      <td>4fd58fbae2a25c1c</td>\n",
              "      <td>\"\\n\\nThanks\\nThanks for your message on my tal...</td>\n",
              "      <td>0</td>\n",
              "      <td>0</td>\n",
              "      <td>0</td>\n",
              "      <td>0</td>\n",
              "      <td>0</td>\n",
              "      <td>0</td>\n",
              "    </tr>\n",
              "    <tr>\n",
              "      <th>145145</th>\n",
              "      <td>17e1cd64f68e10e7</td>\n",
              "      <td>advice for teens \\n\\nhow is that nonsence? i a...</td>\n",
              "      <td>0</td>\n",
              "      <td>0</td>\n",
              "      <td>0</td>\n",
              "      <td>0</td>\n",
              "      <td>0</td>\n",
              "      <td>0</td>\n",
              "    </tr>\n",
              "    <tr>\n",
              "      <th>138243</th>\n",
              "      <td>e3c376cd0ed00a95</td>\n",
              "      <td>I wish to issue a sincere apology for what see...</td>\n",
              "      <td>0</td>\n",
              "      <td>0</td>\n",
              "      <td>0</td>\n",
              "      <td>0</td>\n",
              "      <td>0</td>\n",
              "      <td>0</td>\n",
              "    </tr>\n",
              "  </tbody>\n",
              "</table>\n",
              "</div>\n",
              "      <button class=\"colab-df-convert\" onclick=\"convertToInteractive('df-45b81171-68fe-4167-bfd1-0f50f50b9b91')\"\n",
              "              title=\"Convert this dataframe to an interactive table.\"\n",
              "              style=\"display:none;\">\n",
              "        \n",
              "  <svg xmlns=\"http://www.w3.org/2000/svg\" height=\"24px\"viewBox=\"0 0 24 24\"\n",
              "       width=\"24px\">\n",
              "    <path d=\"M0 0h24v24H0V0z\" fill=\"none\"/>\n",
              "    <path d=\"M18.56 5.44l.94 2.06.94-2.06 2.06-.94-2.06-.94-.94-2.06-.94 2.06-2.06.94zm-11 1L8.5 8.5l.94-2.06 2.06-.94-2.06-.94L8.5 2.5l-.94 2.06-2.06.94zm10 10l.94 2.06.94-2.06 2.06-.94-2.06-.94-.94-2.06-.94 2.06-2.06.94z\"/><path d=\"M17.41 7.96l-1.37-1.37c-.4-.4-.92-.59-1.43-.59-.52 0-1.04.2-1.43.59L10.3 9.45l-7.72 7.72c-.78.78-.78 2.05 0 2.83L4 21.41c.39.39.9.59 1.41.59.51 0 1.02-.2 1.41-.59l7.78-7.78 2.81-2.81c.8-.78.8-2.07 0-2.86zM5.41 20L4 18.59l7.72-7.72 1.47 1.35L5.41 20z\"/>\n",
              "  </svg>\n",
              "      </button>\n",
              "      \n",
              "  <style>\n",
              "    .colab-df-container {\n",
              "      display:flex;\n",
              "      flex-wrap:wrap;\n",
              "      gap: 12px;\n",
              "    }\n",
              "\n",
              "    .colab-df-convert {\n",
              "      background-color: #E8F0FE;\n",
              "      border: none;\n",
              "      border-radius: 50%;\n",
              "      cursor: pointer;\n",
              "      display: none;\n",
              "      fill: #1967D2;\n",
              "      height: 32px;\n",
              "      padding: 0 0 0 0;\n",
              "      width: 32px;\n",
              "    }\n",
              "\n",
              "    .colab-df-convert:hover {\n",
              "      background-color: #E2EBFA;\n",
              "      box-shadow: 0px 1px 2px rgba(60, 64, 67, 0.3), 0px 1px 3px 1px rgba(60, 64, 67, 0.15);\n",
              "      fill: #174EA6;\n",
              "    }\n",
              "\n",
              "    [theme=dark] .colab-df-convert {\n",
              "      background-color: #3B4455;\n",
              "      fill: #D2E3FC;\n",
              "    }\n",
              "\n",
              "    [theme=dark] .colab-df-convert:hover {\n",
              "      background-color: #434B5C;\n",
              "      box-shadow: 0px 1px 3px 1px rgba(0, 0, 0, 0.15);\n",
              "      filter: drop-shadow(0px 1px 2px rgba(0, 0, 0, 0.3));\n",
              "      fill: #FFFFFF;\n",
              "    }\n",
              "  </style>\n",
              "\n",
              "      <script>\n",
              "        const buttonEl =\n",
              "          document.querySelector('#df-45b81171-68fe-4167-bfd1-0f50f50b9b91 button.colab-df-convert');\n",
              "        buttonEl.style.display =\n",
              "          google.colab.kernel.accessAllowed ? 'block' : 'none';\n",
              "\n",
              "        async function convertToInteractive(key) {\n",
              "          const element = document.querySelector('#df-45b81171-68fe-4167-bfd1-0f50f50b9b91');\n",
              "          const dataTable =\n",
              "            await google.colab.kernel.invokeFunction('convertToInteractive',\n",
              "                                                     [key], {});\n",
              "          if (!dataTable) return;\n",
              "\n",
              "          const docLinkHtml = 'Like what you see? Visit the ' +\n",
              "            '<a target=\"_blank\" href=https://colab.research.google.com/notebooks/data_table.ipynb>data table notebook</a>'\n",
              "            + ' to learn more about interactive tables.';\n",
              "          element.innerHTML = '';\n",
              "          dataTable['output_type'] = 'display_data';\n",
              "          await google.colab.output.renderOutput(dataTable, element);\n",
              "          const docLink = document.createElement('div');\n",
              "          docLink.innerHTML = docLinkHtml;\n",
              "          element.appendChild(docLink);\n",
              "        }\n",
              "      </script>\n",
              "    </div>\n",
              "  </div>\n",
              "  "
            ]
          },
          "metadata": {},
          "execution_count": 8
        }
      ]
    },
    {
      "cell_type": "code",
      "source": [
        "target_cols = ['toxic', 'severe_toxic', 'obscene', 'threat', 'insult', 'identity_hate']"
      ],
      "metadata": {
        "id": "Qy5pzisoyF7m"
      },
      "execution_count": 9,
      "outputs": []
    },
    {
      "cell_type": "code",
      "source": [
        "for col in target_cols:\n",
        "  print(df[col].value_counts(normalize=True))"
      ],
      "metadata": {
        "colab": {
          "base_uri": "https://localhost:8080/"
        },
        "id": "zaFO18WWzKb3",
        "outputId": "294fa4d3-0908-49e3-f819-18edb11485e1"
      },
      "execution_count": 10,
      "outputs": [
        {
          "output_type": "stream",
          "name": "stdout",
          "text": [
            "0    0.904156\n",
            "1    0.095844\n",
            "Name: toxic, dtype: float64\n",
            "0    0.990004\n",
            "1    0.009996\n",
            "Name: severe_toxic, dtype: float64\n",
            "0    0.947052\n",
            "1    0.052948\n",
            "Name: obscene, dtype: float64\n",
            "0    0.997004\n",
            "1    0.002996\n",
            "Name: threat, dtype: float64\n",
            "0    0.950636\n",
            "1    0.049364\n",
            "Name: insult, dtype: float64\n",
            "0    0.991195\n",
            "1    0.008805\n",
            "Name: identity_hate, dtype: float64\n"
          ]
        }
      ]
    },
    {
      "cell_type": "markdown",
      "source": [
        "## Create Vocabulary"
      ],
      "metadata": {
        "id": "i2jVD1Pe51yo"
      }
    },
    {
      "cell_type": "code",
      "source": [
        "from torchtext.data.utils import get_tokenizer"
      ],
      "metadata": {
        "id": "mVFkD2_yzSkN"
      },
      "execution_count": 11,
      "outputs": []
    },
    {
      "cell_type": "code",
      "source": [
        "tokenizer = get_tokenizer('basic_english')"
      ],
      "metadata": {
        "id": "GN9SrpQz0hgV"
      },
      "execution_count": 12,
      "outputs": []
    },
    {
      "cell_type": "code",
      "source": [
        "from torchtext.vocab import build_vocab_from_iterator"
      ],
      "metadata": {
        "id": "7PdTQmkw0mMi"
      },
      "execution_count": 13,
      "outputs": []
    },
    {
      "cell_type": "code",
      "source": [
        "VOCAB_SIZE = 1500"
      ],
      "metadata": {
        "id": "57Y_1wTY1oWa"
      },
      "execution_count": 14,
      "outputs": []
    },
    {
      "cell_type": "code",
      "source": [
        "comment_tokens = df['comment_text'].map(tokenizer)"
      ],
      "metadata": {
        "id": "kvOnmRAd1neF"
      },
      "execution_count": 15,
      "outputs": []
    },
    {
      "cell_type": "code",
      "source": [
        "unk_token = '<unk>'\n",
        "pad_token = '<pad>'"
      ],
      "metadata": {
        "id": "s06DnmO21wqt"
      },
      "execution_count": 16,
      "outputs": []
    },
    {
      "cell_type": "code",
      "source": [
        "vocab = build_vocab_from_iterator(comment_tokens, specials=[unk_token, pad_token],\n",
        "                                  max_tokens=VOCAB_SIZE)"
      ],
      "metadata": {
        "id": "j75GW51t1UCm"
      },
      "execution_count": 17,
      "outputs": []
    },
    {
      "cell_type": "code",
      "source": [
        "## Replace the words not found in Vocabulary with Unknown Token\n",
        "vocab.set_default_index(vocab[unk_token])"
      ],
      "metadata": {
        "id": "B7W-oU0K2kuX"
      },
      "execution_count": 18,
      "outputs": []
    },
    {
      "cell_type": "code",
      "source": [
        "vocab['good']"
      ],
      "metadata": {
        "colab": {
          "base_uri": "https://localhost:8080/"
        },
        "id": "O_W5po2C2F8h",
        "outputId": "aef75d9c-878d-4270-9703-f95fa7a3390f"
      },
      "execution_count": 19,
      "outputs": [
        {
          "output_type": "execute_result",
          "data": {
            "text/plain": [
              "108"
            ]
          },
          "metadata": {},
          "execution_count": 19
        }
      ]
    },
    {
      "cell_type": "markdown",
      "source": [
        "### Check Indices of Sample Comments"
      ],
      "metadata": {
        "id": "q5Mzz2Yi4Xho"
      }
    },
    {
      "cell_type": "code",
      "source": [
        "sample_comment = df['comment_text'].sample(1).values[0]"
      ],
      "metadata": {
        "id": "WSUZV6f622aa"
      },
      "execution_count": 20,
      "outputs": []
    },
    {
      "cell_type": "code",
      "source": [
        "sample_comment"
      ],
      "metadata": {
        "colab": {
          "base_uri": "https://localhost:8080/",
          "height": 52
        },
        "id": "dYJF-xw83PVo",
        "outputId": "3dcaa48c-b2b8-4e20-90d1-6db045463d7f"
      },
      "execution_count": 21,
      "outputs": [
        {
          "output_type": "execute_result",
          "data": {
            "text/plain": [
              "'Sources\\nno source given to support name Territory of the Military Commander in Serbia. show this source here.'"
            ],
            "application/vnd.google.colaboratory.intrinsic+json": {
              "type": "string"
            }
          },
          "metadata": {},
          "execution_count": 21
        }
      ]
    },
    {
      "cell_type": "code",
      "source": [
        "sample_comment_tokens = tokenizer(sample_comment)\n",
        "sample_comment_tokens[:10]"
      ],
      "metadata": {
        "colab": {
          "base_uri": "https://localhost:8080/"
        },
        "id": "wtJBcYem3QVj",
        "outputId": "02cf702e-10b1-4e0a-ceb1-b326b56a53ff"
      },
      "execution_count": 22,
      "outputs": [
        {
          "output_type": "execute_result",
          "data": {
            "text/plain": [
              "['sources',\n",
              " 'no',\n",
              " 'source',\n",
              " 'given',\n",
              " 'to',\n",
              " 'support',\n",
              " 'name',\n",
              " 'territory',\n",
              " 'of',\n",
              " 'the']"
            ]
          },
          "metadata": {},
          "execution_count": 22
        }
      ]
    },
    {
      "cell_type": "code",
      "source": [
        "sample_indices = vocab.lookup_indices(sample_comment_tokens)\n",
        "sample_indices"
      ],
      "metadata": {
        "colab": {
          "base_uri": "https://localhost:8080/"
        },
        "id": "wVX21wVC3zoU",
        "outputId": "1144f56b-4c2f-4833-af14-1bbc56e1b5b5"
      },
      "execution_count": 23,
      "outputs": [
        {
          "output_type": "execute_result",
          "data": {
            "text/plain": [
              "[120,\n",
              " 58,\n",
              " 131,\n",
              " 336,\n",
              " 5,\n",
              " 349,\n",
              " 123,\n",
              " 0,\n",
              " 7,\n",
              " 3,\n",
              " 910,\n",
              " 0,\n",
              " 15,\n",
              " 0,\n",
              " 2,\n",
              " 309,\n",
              " 18,\n",
              " 131,\n",
              " 74,\n",
              " 2]"
            ]
          },
          "metadata": {},
          "execution_count": 23
        }
      ]
    },
    {
      "cell_type": "code",
      "source": [
        "sample_indices_recovered = vocab.lookup_tokens(sample_indices)\n",
        "sample_indices_recovered"
      ],
      "metadata": {
        "colab": {
          "base_uri": "https://localhost:8080/"
        },
        "id": "YFg8yiGQ3_9h",
        "outputId": "b4ca032d-692c-4dd5-988a-805fe01e9ab5"
      },
      "execution_count": 24,
      "outputs": [
        {
          "output_type": "execute_result",
          "data": {
            "text/plain": [
              "['sources',\n",
              " 'no',\n",
              " 'source',\n",
              " 'given',\n",
              " 'to',\n",
              " 'support',\n",
              " 'name',\n",
              " '<unk>',\n",
              " 'of',\n",
              " 'the',\n",
              " 'military',\n",
              " '<unk>',\n",
              " 'in',\n",
              " '<unk>',\n",
              " '.',\n",
              " 'show',\n",
              " 'this',\n",
              " 'source',\n",
              " 'here',\n",
              " '.']"
            ]
          },
          "metadata": {},
          "execution_count": 24
        }
      ]
    },
    {
      "cell_type": "markdown",
      "source": [
        "## Training and Validation Sets"
      ],
      "metadata": {
        "id": "mOVNjwQj550N"
      }
    },
    {
      "cell_type": "code",
      "source": [
        "MAX_LENGTH = 1150"
      ],
      "metadata": {
        "id": "vt3jphZ969nC"
      },
      "execution_count": 25,
      "outputs": []
    },
    {
      "cell_type": "code",
      "source": [
        "def pad_tokens(tokens):\n",
        "  \n",
        "  if (len(tokens) >= MAX_LENGTH):\n",
        "    return tokens[:MAX_LENGTH]\n",
        "  else:\n",
        "    return tokens + [pad_token] * (MAX_LENGTH - len(tokens))"
      ],
      "metadata": {
        "id": "0uJ0a41T9BR7"
      },
      "execution_count": 26,
      "outputs": []
    },
    {
      "cell_type": "code",
      "source": [
        "import torch\n",
        "from torch.utils.data import Dataset"
      ],
      "metadata": {
        "id": "2Zxd4o0W5n8A"
      },
      "execution_count": 27,
      "outputs": []
    },
    {
      "cell_type": "code",
      "source": [
        "class ToxicDataset(Dataset):\n",
        "  def __init__(self, df, is_test=False):\n",
        "    self.df = df\n",
        "    self.is_test = is_test\n",
        "\n",
        "  def __getitem__(self, index):\n",
        "    comment_text = self.df['comment_text'].values[index]\n",
        "    comment_tokens = pad_tokens(tokenizer(comment_text))\n",
        "    input = torch.tensor(vocab.lookup_indices(comment_tokens))\n",
        "\n",
        "    if self.is_test:\n",
        "      target = torch.tensor([0,0,0,0,0,0]).float()\n",
        "    else:\n",
        "      target = torch.tensor(self.df[target_cols].values[index]).float()\n",
        "\n",
        "    return input, target\n",
        "\n",
        "  def __len__(self):\n",
        "    return len(self.df)"
      ],
      "metadata": {
        "id": "NJzp1KRv6E6I"
      },
      "execution_count": 28,
      "outputs": []
    },
    {
      "cell_type": "code",
      "source": [
        "dataset = ToxicDataset(df)"
      ],
      "metadata": {
        "id": "gTDiuea4-5GS"
      },
      "execution_count": 29,
      "outputs": []
    },
    {
      "cell_type": "code",
      "source": [
        "dataset[0]"
      ],
      "metadata": {
        "colab": {
          "base_uri": "https://localhost:8080/"
        },
        "id": "rKmXipll_BF6",
        "outputId": "fa2200a3-cb40-46b7-dd01-770aa7496a0c"
      },
      "execution_count": 30,
      "outputs": [
        {
          "output_type": "execute_result",
          "data": {
            "text/plain": [
              "(tensor([667,  85,   3,  ...,   1,   1,   1]),\n",
              " tensor([0., 0., 0., 0., 0., 0.]))"
            ]
          },
          "metadata": {},
          "execution_count": 30
        }
      ]
    },
    {
      "cell_type": "code",
      "source": [
        "from torch.utils.data import random_split"
      ],
      "metadata": {
        "id": "6NQOB6bG_U9G"
      },
      "execution_count": 31,
      "outputs": []
    },
    {
      "cell_type": "code",
      "source": [
        "VAL_FRAC = 0.25"
      ],
      "metadata": {
        "id": "7_xbQ_Ap_nIL"
      },
      "execution_count": 32,
      "outputs": []
    },
    {
      "cell_type": "code",
      "source": [
        "train_ds, val_ds = random_split(dataset, [1-VAL_FRAC, VAL_FRAC])"
      ],
      "metadata": {
        "id": "rioQrzQa_t0f"
      },
      "execution_count": 33,
      "outputs": []
    },
    {
      "cell_type": "code",
      "source": [
        "len(dataset), len(train_ds), len(val_ds)"
      ],
      "metadata": {
        "colab": {
          "base_uri": "https://localhost:8080/"
        },
        "id": "h46gCfjF_-k2",
        "outputId": "e1eef53c-71f0-40f5-9b01-2603a62058f8"
      },
      "execution_count": 34,
      "outputs": [
        {
          "output_type": "execute_result",
          "data": {
            "text/plain": [
              "(159571, 119679, 39892)"
            ]
          },
          "metadata": {},
          "execution_count": 34
        }
      ]
    },
    {
      "cell_type": "code",
      "source": [
        "test_dataset = ToxicDataset(test_df, is_test=True)"
      ],
      "metadata": {
        "id": "Kk1uyYEGAF_I"
      },
      "execution_count": 35,
      "outputs": []
    },
    {
      "cell_type": "code",
      "source": [
        "test_dataset[0]"
      ],
      "metadata": {
        "colab": {
          "base_uri": "https://localhost:8080/"
        },
        "id": "dZuYO67GAPcd",
        "outputId": "58a1c74a-6988-4aa1-a23d-a6b181a694a3"
      },
      "execution_count": 36,
      "outputs": [
        {
          "output_type": "execute_result",
          "data": {
            "text/plain": [
              "(tensor([  0, 636,   0,  ...,   1,   1,   1]),\n",
              " tensor([0., 0., 0., 0., 0., 0.]))"
            ]
          },
          "metadata": {},
          "execution_count": 36
        }
      ]
    },
    {
      "cell_type": "markdown",
      "source": [
        "## Pytorch DataLoader"
      ],
      "metadata": {
        "id": "5kUqJfJmAnyC"
      }
    },
    {
      "cell_type": "code",
      "source": [
        "from torch.utils.data import DataLoader"
      ],
      "metadata": {
        "id": "ThAcNuotASLX"
      },
      "execution_count": 37,
      "outputs": []
    },
    {
      "cell_type": "code",
      "source": [
        "BATCH_SIZE = 256"
      ],
      "metadata": {
        "id": "3kcHKralAxN4"
      },
      "execution_count": 38,
      "outputs": []
    },
    {
      "cell_type": "code",
      "source": [
        "train_dl = DataLoader(train_ds, batch_size=BATCH_SIZE, shuffle=True, num_workers=8, pin_memory=True)\n",
        "val_dl = DataLoader(val_ds, batch_size=BATCH_SIZE*2, num_workers=8, pin_memory=True)\n",
        "test_dl = DataLoader(test_dataset, batch_size=BATCH_SIZE*2, num_workers=8, pin_memory=True)"
      ],
      "metadata": {
        "colab": {
          "base_uri": "https://localhost:8080/"
        },
        "id": "OrsmyIhwAz3v",
        "outputId": "de9c61ac-1afa-46ad-bbf1-5e9aee2dbff6"
      },
      "execution_count": 39,
      "outputs": [
        {
          "output_type": "stream",
          "name": "stderr",
          "text": [
            "/usr/local/lib/python3.10/dist-packages/torch/utils/data/dataloader.py:560: UserWarning: This DataLoader will create 8 worker processes in total. Our suggested max number of worker in current system is 2, which is smaller than what this DataLoader is going to create. Please be aware that excessive worker creation might get DataLoader running slow or even freeze, lower the worker number to avoid potential slowness/freeze if necessary.\n",
            "  warnings.warn(_create_warning_msg(\n"
          ]
        }
      ]
    },
    {
      "cell_type": "code",
      "source": [
        "for batch in train_dl:\n",
        "  b_inputs, b_targets = batch\n",
        "\n",
        "  print(f'Batch Inputs Shape: {b_inputs.shape}')\n",
        "  print(f'Batch Targets Shape: {b_targets.shape}')\n",
        "\n",
        "  break"
      ],
      "metadata": {
        "colab": {
          "base_uri": "https://localhost:8080/"
        },
        "id": "uGXCcznuBjpz",
        "outputId": "e0be4f35-c8bc-4568-e8b3-65730dd1068a"
      },
      "execution_count": 40,
      "outputs": [
        {
          "output_type": "stream",
          "name": "stdout",
          "text": [
            "Batch Inputs Shape: torch.Size([256, 1150])\n",
            "Batch Targets Shape: torch.Size([256, 6])\n"
          ]
        }
      ]
    },
    {
      "cell_type": "markdown",
      "source": [
        "## Recurrent Neural Network"
      ],
      "metadata": {
        "id": "-oQXXhHrCJy5"
      }
    },
    {
      "cell_type": "code",
      "source": [
        "!pip install pytorch_lightning --quiet"
      ],
      "metadata": {
        "colab": {
          "base_uri": "https://localhost:8080/"
        },
        "id": "aOPzkvU7MMi3",
        "outputId": "5c849ed0-bdf3-44e0-c950-7b5b6adc7064"
      },
      "execution_count": 41,
      "outputs": [
        {
          "output_type": "stream",
          "name": "stdout",
          "text": [
            "\u001b[2K     \u001b[90m━━━━━━━━━━━━━━━━━━━━━━━━━━━━━━━━━━━━━━\u001b[0m \u001b[32m720.6/720.6 kB\u001b[0m \u001b[31m43.7 MB/s\u001b[0m eta \u001b[36m0:00:00\u001b[0m\n",
            "\u001b[2K     \u001b[90m━━━━━━━━━━━━━━━━━━━━━━━━━━━━━━━━━━━━━━\u001b[0m \u001b[32m519.2/519.2 kB\u001b[0m \u001b[31m53.8 MB/s\u001b[0m eta \u001b[36m0:00:00\u001b[0m\n",
            "\u001b[2K     \u001b[90m━━━━━━━━━━━━━━━━━━━━━━━━━━━━━━━━━━━━━━━━\u001b[0m \u001b[32m1.0/1.0 MB\u001b[0m \u001b[31m63.7 MB/s\u001b[0m eta \u001b[36m0:00:00\u001b[0m\n",
            "\u001b[2K     \u001b[90m━━━━━━━━━━━━━━━━━━━━━━━━━━━━━━━━━━━━━━\u001b[0m \u001b[32m114.5/114.5 kB\u001b[0m \u001b[31m15.3 MB/s\u001b[0m eta \u001b[36m0:00:00\u001b[0m\n",
            "\u001b[2K     \u001b[90m━━━━━━━━━━━━━━━━━━━━━━━━━━━━━━━━━━━━━━\u001b[0m \u001b[32m268.8/268.8 kB\u001b[0m \u001b[31m33.5 MB/s\u001b[0m eta \u001b[36m0:00:00\u001b[0m\n",
            "\u001b[2K     \u001b[90m━━━━━━━━━━━━━━━━━━━━━━━━━━━━━━━━━━━━━━\u001b[0m \u001b[32m149.6/149.6 kB\u001b[0m \u001b[31m18.9 MB/s\u001b[0m eta \u001b[36m0:00:00\u001b[0m\n",
            "\u001b[?25h"
          ]
        }
      ]
    },
    {
      "cell_type": "code",
      "source": [
        "import numpy as np\n",
        "import pytorch_lightning as pl\n",
        "import torch.nn.functional as F\n",
        "import torch.nn as nn"
      ],
      "metadata": {
        "id": "Afo6dsDlCExP"
      },
      "execution_count": 42,
      "outputs": []
    },
    {
      "cell_type": "code",
      "source": [
        "emb_layer = nn.Embedding(VOCAB_SIZE, 256, 1)"
      ],
      "metadata": {
        "id": "IsZPn1VKOU3j"
      },
      "execution_count": 43,
      "outputs": []
    },
    {
      "cell_type": "code",
      "source": [
        "rnn_layer = nn.RNN(256, 128, 1, batch_first=True)"
      ],
      "metadata": {
        "id": "ztLMyhR7PMHT"
      },
      "execution_count": 44,
      "outputs": []
    },
    {
      "cell_type": "code",
      "source": [
        "for batch in train_dl:\n",
        "  b_inputs, b_targets = batch\n",
        "\n",
        "  print(f'Batch Inputs Shape: {b_inputs.shape}')\n",
        "  print(f'Batch Targets Shape: {b_targets.shape}')\n",
        "\n",
        "  emb_out = emb_layer(b_inputs)\n",
        "  print('emb_out.shape', emb_out.shape)\n",
        "\n",
        "  rnn_out, hn = rnn_layer(emb_out)\n",
        "  print('rnn_out.shape', rnn_out.shape)\n",
        "  print('hn.shape', hn.shape)\n",
        "\n",
        "  break"
      ],
      "metadata": {
        "colab": {
          "base_uri": "https://localhost:8080/"
        },
        "id": "zfJoqfmnPWLH",
        "outputId": "d63e03c7-f508-4348-c76a-df93f6a33f44"
      },
      "execution_count": 45,
      "outputs": [
        {
          "output_type": "stream",
          "name": "stderr",
          "text": [
            "/usr/local/lib/python3.10/dist-packages/torch/utils/data/dataloader.py:560: UserWarning: This DataLoader will create 8 worker processes in total. Our suggested max number of worker in current system is 2, which is smaller than what this DataLoader is going to create. Please be aware that excessive worker creation might get DataLoader running slow or even freeze, lower the worker number to avoid potential slowness/freeze if necessary.\n",
            "  warnings.warn(_create_warning_msg(\n"
          ]
        },
        {
          "output_type": "stream",
          "name": "stdout",
          "text": [
            "Batch Inputs Shape: torch.Size([256, 1150])\n",
            "Batch Targets Shape: torch.Size([256, 6])\n",
            "emb_out.shape torch.Size([256, 1150, 256])\n",
            "rnn_out.shape torch.Size([256, 1150, 128])\n",
            "hn.shape torch.Size([1, 256, 128])\n"
          ]
        }
      ]
    },
    {
      "cell_type": "code",
      "source": [
        "class ToxicModel(pl.LightningModule):\n",
        "    def __init__(self):\n",
        "        super().__init__()\n",
        "        self.emb = nn.Embedding(VOCAB_SIZE, 256, 1)\n",
        "        self.lstm = nn.LSTM(256, 128, 1, batch_first=True)\n",
        "        self.linear = nn.Linear(128, 6)\n",
        "        self.learning_rate = 0.001\n",
        "\n",
        "    def forward(self, x):\n",
        "        out = self.emb(x)\n",
        "        out, hn = self.lstm(out)\n",
        "        out = F.relu(out[:,-1,:])\n",
        "        out = self.linear(out)\n",
        "        return out\n",
        "\n",
        "    def training_step(self, batch, batch_idx):\n",
        "        inputs, targets = batch\n",
        "        outputs = self(inputs)\n",
        "        probs = torch.sigmoid(outputs)\n",
        "        loss = F.binary_cross_entropy(probs, targets)\n",
        "        return loss\n",
        "\n",
        "    def validation_step(self, batch, batch_idx):\n",
        "        inputs, targets = batch\n",
        "        outputs = self(inputs)\n",
        "        probs = torch.sigmoid(outputs)\n",
        "        loss = F.binary_cross_entropy(probs, targets)\n",
        "        return loss.item()\n",
        "\n",
        "    def validation_epoch_end(self, validation_step_outputs):\n",
        "        loss = np.mean(validation_step_outputs)\n",
        "        print(\"Epoch #{}; Loss: {:4f} \".format(self.current_epoch, loss)) \n",
        "\n",
        "    def predict_step(self, batch, batch_idx):\n",
        "        inputs, targets = batch\n",
        "        outputs = self(inputs)\n",
        "        probs = torch.sigmoid(outputs)\n",
        "        return probs       \n",
        "\n",
        "    def configure_optimizers(self):\n",
        "        return torch.optim.Adam(self.parameters(), lr=self.learning_rate)"
      ],
      "metadata": {
        "id": "goPqdevxPizw"
      },
      "execution_count": 46,
      "outputs": []
    },
    {
      "cell_type": "code",
      "source": [
        "model = ToxicModel()"
      ],
      "metadata": {
        "id": "lZ_eN7xiQY8v"
      },
      "execution_count": 47,
      "outputs": []
    },
    {
      "cell_type": "code",
      "source": [
        "for batch in train_dl:\n",
        "  b_inputs, b_targets = batch\n",
        "\n",
        "  print(f'Batch Inputs Shape: {b_inputs.shape}')\n",
        "  print(f'Batch Targets Shape: {b_targets.shape}')\n",
        "\n",
        "  outputs = model(b_inputs)\n",
        "  print('outputs.shape', outputs.shape)\n",
        "\n",
        "  probs = torch.sigmoid(outputs)\n",
        "  loss = F.binary_cross_entropy(probs, b_targets)\n",
        "  print('Loss', loss)\n",
        "  break"
      ],
      "metadata": {
        "colab": {
          "base_uri": "https://localhost:8080/"
        },
        "id": "pKSz8XASQfF9",
        "outputId": "dac78d51-22fa-4b12-c228-92f983691e44"
      },
      "execution_count": 48,
      "outputs": [
        {
          "output_type": "stream",
          "name": "stdout",
          "text": [
            "Batch Inputs Shape: torch.Size([256, 1150])\n",
            "Batch Targets Shape: torch.Size([256, 6])\n",
            "outputs.shape torch.Size([256, 6])\n",
            "Loss tensor(0.6932, grad_fn=<BinaryCrossEntropyBackward0>)\n"
          ]
        }
      ]
    },
    {
      "cell_type": "markdown",
      "source": [
        "## Train and Evaluate"
      ],
      "metadata": {
        "id": "-vCHhuOgRGFm"
      }
    },
    {
      "cell_type": "code",
      "source": [
        "from pytorch_lightning.callbacks import lr_finder\n",
        "trainer = pl.Trainer(max_epochs=3, accelerator='gpu')"
      ],
      "metadata": {
        "colab": {
          "base_uri": "https://localhost:8080/"
        },
        "id": "AfvU5uJAQ2-O",
        "outputId": "b77066c6-7db8-4d38-c37b-b187e20c6de3"
      },
      "execution_count": 49,
      "outputs": [
        {
          "output_type": "stream",
          "name": "stderr",
          "text": [
            "INFO:pytorch_lightning.utilities.rank_zero:GPU available: True (cuda), used: True\n",
            "INFO:pytorch_lightning.utilities.rank_zero:TPU available: False, using: 0 TPU cores\n",
            "INFO:pytorch_lightning.utilities.rank_zero:IPU available: False, using: 0 IPUs\n",
            "INFO:pytorch_lightning.utilities.rank_zero:HPU available: False, using: 0 HPUs\n"
          ]
        }
      ]
    },
    {
      "cell_type": "code",
      "source": [
        "trainer.tune(model, train_dl)"
      ],
      "metadata": {
        "colab": {
          "base_uri": "https://localhost:8080/",
          "height": 166
        },
        "id": "ktzVxwDNRNBt",
        "outputId": "6101c68f-76d0-4464-977d-4943ade483b4"
      },
      "execution_count": 50,
      "outputs": [
        {
          "output_type": "error",
          "ename": "AttributeError",
          "evalue": "ignored",
          "traceback": [
            "\u001b[0;31m---------------------------------------------------------------------------\u001b[0m",
            "\u001b[0;31mAttributeError\u001b[0m                            Traceback (most recent call last)",
            "\u001b[0;32m<ipython-input-50-33de8de5d3f8>\u001b[0m in \u001b[0;36m<cell line: 1>\u001b[0;34m()\u001b[0m\n\u001b[0;32m----> 1\u001b[0;31m \u001b[0mtrainer\u001b[0m\u001b[0;34m.\u001b[0m\u001b[0mtune\u001b[0m\u001b[0;34m(\u001b[0m\u001b[0mmodel\u001b[0m\u001b[0;34m,\u001b[0m \u001b[0mtrain_dl\u001b[0m\u001b[0;34m)\u001b[0m\u001b[0;34m\u001b[0m\u001b[0;34m\u001b[0m\u001b[0m\n\u001b[0m",
            "\u001b[0;31mAttributeError\u001b[0m: 'Trainer' object has no attribute 'tune'"
          ]
        }
      ]
    },
    {
      "cell_type": "code",
      "source": [
        "trainer.fit(model, train_dl, val_dl)"
      ],
      "metadata": {
        "id": "qEXsnW0JR9IF"
      },
      "execution_count": null,
      "outputs": []
    },
    {
      "cell_type": "code",
      "source": [],
      "metadata": {
        "id": "V2sOCvDdkHji"
      },
      "execution_count": null,
      "outputs": []
    }
  ]
}